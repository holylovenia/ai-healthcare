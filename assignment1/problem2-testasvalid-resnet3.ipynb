{
 "cells": [
  {
   "cell_type": "markdown",
   "metadata": {},
   "source": [
    "ELEC6910X Advanced Topics in AI and Healthcare"
   ]
  },
  {
   "cell_type": "markdown",
   "metadata": {},
   "source": [
    "# Assignment 1"
   ]
  },
  {
   "cell_type": "markdown",
   "metadata": {},
   "source": [
    "***Holy Lovenia - 20814158***"
   ]
  },
  {
   "cell_type": "markdown",
   "metadata": {},
   "source": [
    "------"
   ]
  },
  {
   "cell_type": "code",
   "execution_count": 1,
   "metadata": {},
   "outputs": [],
   "source": [
    "from collections import OrderedDict\n",
    "from PIL import Image\n",
    "from pytorch3dunet.unet3d import losses\n",
    "from torch import nn\n",
    "from torch.autograd import Variable\n",
    "from torch.nn import init\n",
    "from torch.utils.data import Dataset, DataLoader\n",
    "from torchvision import datasets\n",
    "from torchvision.transforms import (\n",
    "    CenterCrop,\n",
    "    Compose,\n",
    "    Normalize,\n",
    "    RandomHorizontalFlip,\n",
    "    RandomVerticalFlip,\n",
    "    RandomResizedCrop,\n",
    "    Resize,\n",
    "    ToTensor,\n",
    ")\n",
    "from transformers import AutoConfig, AutoFeatureExtractor, AutoModelForImageClassification, TrainingArguments, Trainer, EarlyStoppingCallback\n",
    "from tqdm import tqdm\n",
    "\n",
    "import datasets\n",
    "import h5py\n",
    "import matplotlib.pyplot as plt\n",
    "import numpy as np\n",
    "import os\n",
    "import pandas as pd\n",
    "import random\n",
    "import surface_distance.metrics as sf\n",
    "import torch\n",
    "import torch.nn.functional as F\n",
    "import torch.optim as optim\n",
    "import torchio as tio\n",
    "import torchmetrics\n",
    "import torchvision"
   ]
  },
  {
   "cell_type": "code",
   "execution_count": 2,
   "metadata": {},
   "outputs": [],
   "source": [
    "RANDOM_SEED = 42\n",
    "\n",
    "def set_all_seeds(seed):\n",
    "  random.seed(seed)\n",
    "  np.random.seed(seed)\n",
    "  torch.manual_seed(seed)\n",
    "  torch.cuda.manual_seed(seed)\n",
    "  torch.backends.cudnn.deterministic = True\n",
    "\n",
    "set_all_seeds(RANDOM_SEED)"
   ]
  },
  {
   "cell_type": "markdown",
   "metadata": {},
   "source": [
    "## Problem 2"
   ]
  },
  {
   "cell_type": "code",
   "execution_count": 3,
   "metadata": {},
   "outputs": [],
   "source": [
    "model_name_or_path = \"microsoft/resnet-152\"\n",
    "# model_name_or_path = \"gianlab/swin-tiny-patch4-window7-224-finetuned-skin-cancer\"\n",
    "# model_name_or_path = \"google/vit-base-patch16-224-in21k\""
   ]
  },
  {
   "cell_type": "code",
   "execution_count": 4,
   "metadata": {},
   "outputs": [
    {
     "name": "stderr",
     "output_type": "stream",
     "text": [
      "/tmp/ipykernel_7472/3770023701.py:1: FutureWarning: load_metric is deprecated and will be removed in the next major version of datasets. Use 'evaluate.load' instead, from the new library 🤗 Evaluate: https://huggingface.co/docs/evaluate\n",
      "  metric = datasets.load_metric(\"accuracy\")\n"
     ]
    }
   ],
   "source": [
    "metric = datasets.load_metric(\"accuracy\")"
   ]
  },
  {
   "cell_type": "code",
   "execution_count": 5,
   "metadata": {},
   "outputs": [],
   "source": [
    "def problem2_load_dataset(manifest_path, img_dir_path, img_column_name=\"image_train\", label_column_name=\"label_train\"):\n",
    "    manifest_df = pd.read_csv(manifest_path)\n",
    "    manifest_df[img_column_name] = img_dir_path + manifest_df[img_column_name].astype(str)\n",
    "    manifest_df = manifest_df.rename(columns={img_column_name: \"image\", label_column_name: \"label\"})\n",
    "    dataset = datasets.Dataset.from_pandas(manifest_df)\n",
    "    dataset = dataset.cast_column(\"image\", datasets.Image(decode=True))\n",
    "    dataset = dataset.class_encode_column(\"label\")\n",
    "    return dataset"
   ]
  },
  {
   "cell_type": "code",
   "execution_count": 6,
   "metadata": {},
   "outputs": [],
   "source": [
    "def ham10000_load_dataset(manifest_path, img_dir_paths, img_column_name=\"image_id\", label_column_name=\"dx\"):\n",
    "    manifest_df = pd.read_csv(manifest_path)\n",
    "    for i in range(len(manifest_df)):\n",
    "        for img_dir_path in img_dir_paths:\n",
    "            img_path = os.path.join(img_dir_path, f\"{manifest_df[img_column_name][i]}.jpg\")\n",
    "            if os.path.isfile(img_path):\n",
    "                manifest_df[img_column_name][i] = img_path\n",
    "    manifest_df = manifest_df.drop(manifest_df[~manifest_df[img_column_name].str.contains(\".jpg\")].index)\n",
    "    manifest_df = manifest_df.rename(columns={img_column_name: \"image\", label_column_name: \"label\"})\n",
    "    manifest_df = manifest_df.replace({\n",
    "        \"mel\": 0,\n",
    "        \"nv\": 1,\n",
    "        \"bcc\": 2,\n",
    "        \"akiec\": 3,\n",
    "        \"bkl\": 4,\n",
    "        \"df\": 5,\n",
    "        \"vasc\": 6,\n",
    "    })\n",
    "    dataset = datasets.Dataset.from_pandas(manifest_df)\n",
    "    dataset = dataset.cast_column(\"image\", datasets.Image(decode=True))\n",
    "    dataset = dataset.class_encode_column(\"label\")\n",
    "    return dataset"
   ]
  },
  {
   "cell_type": "code",
   "execution_count": 7,
   "metadata": {},
   "outputs": [
    {
     "data": {
      "application/vnd.jupyter.widget-view+json": {
       "model_id": "4c79dc6c717e4d52af42b4d01ea34d44",
       "version_major": 2,
       "version_minor": 0
      },
      "text/plain": [
       "Stringifying the column:   0%|          | 0/1 [00:00<?, ?ba/s]"
      ]
     },
     "metadata": {},
     "output_type": "display_data"
    },
    {
     "data": {
      "application/vnd.jupyter.widget-view+json": {
       "model_id": "2e236e12ed4a4aa198f773fa8fbe1a85",
       "version_major": 2,
       "version_minor": 0
      },
      "text/plain": [
       "Casting to class labels:   0%|          | 0/1 [00:00<?, ?ba/s]"
      ]
     },
     "metadata": {},
     "output_type": "display_data"
    },
    {
     "data": {
      "application/vnd.jupyter.widget-view+json": {
       "model_id": "9d2ee23a6d0040759fb3e542644eec03",
       "version_major": 2,
       "version_minor": 0
      },
      "text/plain": [
       "Casting the dataset:   0%|          | 0/1 [00:00<?, ?ba/s]"
      ]
     },
     "metadata": {},
     "output_type": "display_data"
    },
    {
     "data": {
      "application/vnd.jupyter.widget-view+json": {
       "model_id": "5c7d2d4f91e340988824567ba489264a",
       "version_major": 2,
       "version_minor": 0
      },
      "text/plain": [
       "Stringifying the column:   0%|          | 0/1 [00:00<?, ?ba/s]"
      ]
     },
     "metadata": {},
     "output_type": "display_data"
    },
    {
     "data": {
      "application/vnd.jupyter.widget-view+json": {
       "model_id": "abf124dcf13f4631a3eefc446cc505e1",
       "version_major": 2,
       "version_minor": 0
      },
      "text/plain": [
       "Casting to class labels:   0%|          | 0/1 [00:00<?, ?ba/s]"
      ]
     },
     "metadata": {},
     "output_type": "display_data"
    },
    {
     "data": {
      "application/vnd.jupyter.widget-view+json": {
       "model_id": "087343d6eee74b22934afe097424333b",
       "version_major": 2,
       "version_minor": 0
      },
      "text/plain": [
       "Casting the dataset:   0%|          | 0/1 [00:00<?, ?ba/s]"
      ]
     },
     "metadata": {},
     "output_type": "display_data"
    }
   ],
   "source": [
    "raw_datasets = datasets.DatasetDict()\n",
    "raw_datasets[\"train\"] = problem2_load_dataset(\"./data/problem2_datas/annotation/train.csv\", \"./data/problem2_datas/images/\")\n",
    "# train_val_dataset = problem2_load_dataset(\"./data/problem2_datas/annotation/train.csv\", \"./data/problem2_datas/images/\").train_test_split(test_size=0.2)\n",
    "# raw_datasets[\"train\"] = train_val_dataset[\"train\"]\n",
    "# raw_datasets[\"valid\"] = train_val_dataset[\"test\"]\n",
    "raw_datasets[\"test\"] = problem2_load_dataset(\"./data/problem2_datas/annotation/test.csv\", \"./data/problem2_datas/images/\")"
   ]
  },
  {
   "cell_type": "code",
   "execution_count": 8,
   "metadata": {},
   "outputs": [
    {
     "name": "stderr",
     "output_type": "stream",
     "text": [
      "/tmp/ipykernel_7472/4003405763.py:7: SettingWithCopyWarning: \n",
      "A value is trying to be set on a copy of a slice from a DataFrame\n",
      "\n",
      "See the caveats in the documentation: https://pandas.pydata.org/pandas-docs/stable/user_guide/indexing.html#returning-a-view-versus-a-copy\n",
      "  manifest_df[img_column_name][i] = img_path\n"
     ]
    },
    {
     "data": {
      "application/vnd.jupyter.widget-view+json": {
       "model_id": "87436fa7600c4967a9ead749c9f95c37",
       "version_major": 2,
       "version_minor": 0
      },
      "text/plain": [
       "Stringifying the column:   0%|          | 0/11 [00:00<?, ?ba/s]"
      ]
     },
     "metadata": {},
     "output_type": "display_data"
    },
    {
     "data": {
      "application/vnd.jupyter.widget-view+json": {
       "model_id": "05ec77466c8d4e1a8012959ecaa0d14c",
       "version_major": 2,
       "version_minor": 0
      },
      "text/plain": [
       "Casting to class labels:   0%|          | 0/11 [00:00<?, ?ba/s]"
      ]
     },
     "metadata": {},
     "output_type": "display_data"
    },
    {
     "data": {
      "application/vnd.jupyter.widget-view+json": {
       "model_id": "4085d25a52f6416ab2af964df2a4a0be",
       "version_major": 2,
       "version_minor": 0
      },
      "text/plain": [
       "Casting the dataset:   0%|          | 0/2 [00:00<?, ?ba/s]"
      ]
     },
     "metadata": {},
     "output_type": "display_data"
    }
   ],
   "source": [
    "pretrain_datasets = datasets.DatasetDict()\n",
    "pretrain_train_val_dataset = ham10000_load_dataset(\n",
    "    \"./data/HAM10000/HAM10000_metadata.csv\",\n",
    "    [\n",
    "        \"./data/HAM10000/ham10000_images_part_1\",\n",
    "        \"./data/HAM10000/HAM10000_images_part_1\",\n",
    "        \"./data/HAM10000/ham10000_images_part_2\",\n",
    "        \"./data/HAM10000/HAM10000_images_part_2\"\n",
    "    ]).train_test_split(test_size=0.2)\n",
    "pretrain_datasets[\"train\"] = pretrain_train_val_dataset[\"train\"]\n",
    "pretrain_datasets[\"valid\"] = pretrain_train_val_dataset[\"test\"]"
   ]
  },
  {
   "cell_type": "code",
   "execution_count": 9,
   "metadata": {},
   "outputs": [],
   "source": [
    "feature_extractor = AutoFeatureExtractor.from_pretrained(model_name_or_path)\n",
    "model = AutoModelForImageClassification.from_pretrained(model_name_or_path)"
   ]
  },
  {
   "cell_type": "code",
   "execution_count": 10,
   "metadata": {},
   "outputs": [],
   "source": [
    "normalize = Normalize(mean=feature_extractor.image_mean, std=feature_extractor.image_std)\n",
    "train_transforms = Compose(\n",
    "        [\n",
    "#             RandomResizedCrop(feature_extractor.size),\n",
    "            Resize(feature_extractor.size),\n",
    "            CenterCrop(feature_extractor.size),\n",
    "            RandomHorizontalFlip(),\n",
    "            RandomVerticalFlip(),\n",
    "            ToTensor(),\n",
    "            normalize,\n",
    "        ]\n",
    "    )\n",
    "\n",
    "eval_transforms = Compose(\n",
    "        [\n",
    "            Resize(feature_extractor.size),\n",
    "            CenterCrop(feature_extractor.size),\n",
    "            ToTensor(),\n",
    "            normalize,\n",
    "        ]\n",
    "    )\n",
    "\n",
    "def preprocess_train(example_batch):\n",
    "    \"\"\"Apply train_transforms across a batch.\"\"\"\n",
    "    example_batch[\"pixel_values\"] = [\n",
    "        train_transforms(image.convert(\"RGB\")) for image in example_batch[\"image\"]\n",
    "    ]\n",
    "    return example_batch\n",
    "\n",
    "def preprocess_eval(example_batch):\n",
    "    \"\"\"Apply eval_transforms across a batch.\"\"\"\n",
    "    example_batch[\"pixel_values\"] = [\n",
    "        eval_transforms(image.convert(\"RGB\")) for image in example_batch[\"image\"]\n",
    "    ]\n",
    "    return example_batch"
   ]
  },
  {
   "cell_type": "code",
   "execution_count": 11,
   "metadata": {},
   "outputs": [],
   "source": [
    "proc_datasets = raw_datasets\n",
    "proc_datasets[\"train\"].set_transform(preprocess_train)\n",
    "# proc_datasets[\"valid\"].set_transform(preprocess_eval)\n",
    "proc_datasets[\"test\"].set_transform(preprocess_eval)"
   ]
  },
  {
   "cell_type": "code",
   "execution_count": 12,
   "metadata": {},
   "outputs": [],
   "source": [
    "proc_pretrain_datasets = pretrain_datasets\n",
    "proc_pretrain_datasets[\"train\"].set_transform(preprocess_train)\n",
    "proc_pretrain_datasets[\"valid\"].set_transform(preprocess_eval)"
   ]
  },
  {
   "cell_type": "code",
   "execution_count": 13,
   "metadata": {},
   "outputs": [],
   "source": [
    "def compute_metrics(eval_pred):\n",
    "    \"\"\"Computes accuracy on a batch of predictions\"\"\"\n",
    "    predictions = np.argmax(eval_pred.predictions, axis=1)\n",
    "    return metric.compute(predictions=predictions, references=eval_pred.label_ids)"
   ]
  },
  {
   "cell_type": "code",
   "execution_count": 14,
   "metadata": {},
   "outputs": [],
   "source": [
    "def collate_fn(examples):\n",
    "    pixel_values = torch.stack([example[\"pixel_values\"] for example in examples])\n",
    "    labels = torch.tensor([example[\"label\"] for example in examples])\n",
    "    return {\"pixel_values\": pixel_values, \"labels\": labels}"
   ]
  },
  {
   "cell_type": "markdown",
   "metadata": {},
   "source": [
    "#### Pretrain"
   ]
  },
  {
   "cell_type": "code",
   "execution_count": null,
   "metadata": {},
   "outputs": [],
   "source": [
    "args = TrainingArguments(\n",
    "    f\"save/problem2/pretrain__{model_name_or_path}__1e-4__weighted\",\n",
    "    remove_unused_columns=False,\n",
    "    evaluation_strategy = \"epoch\",\n",
    "    save_strategy = \"epoch\",\n",
    "    learning_rate=1e-4,\n",
    "    per_device_train_batch_size=32,\n",
    "    gradient_accumulation_steps=4,\n",
    "    per_device_eval_batch_size=32,\n",
    "    num_train_epochs=200,\n",
    "    warmup_ratio=0.1,\n",
    "    logging_steps=10,\n",
    "    load_best_model_at_end=True,\n",
    "    metric_for_best_model=\"eval_accuracy\",\n",
    "    gradient_checkpointing=True,\n",
    "    save_total_limit=1,\n",
    "    seed=RANDOM_SEED,\n",
    "    data_seed=RANDOM_SEED,\n",
    "    dataloader_num_workers=4,\n",
    "    lr_scheduler_type=\"cosine\",\n",
    ")"
   ]
  },
  {
   "cell_type": "code",
   "execution_count": null,
   "metadata": {},
   "outputs": [],
   "source": [
    "class Problem2PretrainingTrainer(Trainer):\n",
    "    def compute_loss(self, model, inputs, return_outputs=False):\n",
    "        labels = inputs.get(\"labels\").to(\"cuda\")\n",
    "        # forward pass\n",
    "        outputs = model(**inputs)\n",
    "        logits = outputs.get(\"logits\").to(\"cuda\")\n",
    "        # compute custom loss (suppose one has 3 labels with different weights)\n",
    "        loss_fct = nn.CrossEntropyLoss(weight=torch.tensor([0.11, 0.68, 0.05, 0.03, 0.11, 0.01, 0.01] + [0 for i in range(993)])).to(\"cuda\")\n",
    "        loss = loss_fct(logits.view(-1, self.model.config.num_labels), labels.view(-1))\n",
    "        return (loss, outputs) if return_outputs else loss"
   ]
  },
  {
   "cell_type": "code",
   "execution_count": null,
   "metadata": {},
   "outputs": [],
   "source": [
    "trainer = Problem2PretrainingTrainer(\n",
    "    model,\n",
    "    args,\n",
    "    train_dataset=proc_pretrain_datasets[\"train\"],\n",
    "    eval_dataset=proc_pretrain_datasets[\"valid\"],\n",
    "    tokenizer=feature_extractor,\n",
    "    compute_metrics=compute_metrics,\n",
    "    data_collator=collate_fn,\n",
    "    callbacks=[EarlyStoppingCallback(early_stopping_patience=10)],\n",
    ")"
   ]
  },
  {
   "cell_type": "code",
   "execution_count": null,
   "metadata": {
    "scrolled": true
   },
   "outputs": [],
   "source": [
    "train_results = trainer.train()\n",
    "# rest is optional but nice to have\n",
    "trainer.save_model()\n",
    "trainer.log_metrics(\"train\", train_results.metrics)\n",
    "trainer.save_metrics(\"train\", train_results.metrics)\n",
    "trainer.save_state()"
   ]
  },
  {
   "cell_type": "code",
   "execution_count": null,
   "metadata": {},
   "outputs": [],
   "source": [
    "metrics = trainer.evaluate(proc_datasets[\"test\"])\n",
    "# some nice to haves:\n",
    "trainer.log_metrics(\"test\", metrics)\n",
    "trainer.save_metrics(\"test\", metrics)"
   ]
  },
  {
   "cell_type": "code",
   "execution_count": null,
   "metadata": {},
   "outputs": [],
   "source": [
    "metrics = trainer.evaluate(proc_pretrain_datasets[\"valid\"])\n",
    "# some nice to haves:\n",
    "trainer.log_metrics(\"valid\", metrics)\n",
    "trainer.save_metrics(\"valid\", metrics)"
   ]
  },
  {
   "cell_type": "markdown",
   "metadata": {},
   "source": [
    "#### Problem 2 dataset"
   ]
  },
  {
   "cell_type": "code",
   "execution_count": 15,
   "metadata": {},
   "outputs": [],
   "source": [
    "model = AutoModelForImageClassification.from_pretrained(f\"save/problem2/pretrain__{model_name_or_path}__1e-3__weighted\")\n",
    "# model = AutoModelForImageClassification.from_pretrained(model_name_or_path)"
   ]
  },
  {
   "cell_type": "code",
   "execution_count": 16,
   "metadata": {},
   "outputs": [],
   "source": [
    "args = TrainingArguments(\n",
    "    f\"save/problem2/pretrained__1e-3__pretrained|{model_name_or_path}__3e-3\",\n",
    "#     f\"save/problem2/{model_name_or_path}__5e-4__cwr\",\n",
    "    remove_unused_columns=False,\n",
    "    evaluation_strategy = \"epoch\",\n",
    "    save_strategy = \"epoch\",\n",
    "    learning_rate=3e-3,\n",
    "    per_device_train_batch_size=32,\n",
    "    gradient_accumulation_steps=4,\n",
    "    per_device_eval_batch_size=32,\n",
    "    num_train_epochs=200,\n",
    "    warmup_ratio=0.1,\n",
    "    logging_steps=10,\n",
    "    load_best_model_at_end=True,\n",
    "    metric_for_best_model=\"eval_accuracy\",\n",
    "    gradient_checkpointing=True,\n",
    "    save_total_limit=1,\n",
    "    seed=RANDOM_SEED,\n",
    "    data_seed=RANDOM_SEED,\n",
    "    dataloader_num_workers=4,\n",
    "    lr_scheduler_type=\"cosine\",\n",
    "    fp16=True,\n",
    ")"
   ]
  },
  {
   "cell_type": "code",
   "execution_count": 17,
   "metadata": {},
   "outputs": [],
   "source": [
    "class Problem2Trainer(Trainer):\n",
    "    def compute_loss(self, model, inputs, return_outputs=False):\n",
    "        labels = inputs.get(\"labels\").to(\"cuda\")\n",
    "        # forward pass\n",
    "        outputs = model(**inputs)\n",
    "        logits = outputs.get(\"logits\").to(\"cuda\")\n",
    "        # compute custom loss (suppose one has 3 labels with different weights)\n",
    "        loss_fct = nn.CrossEntropyLoss(weight=torch.tensor([0.11, 0.68, 0.05, 0.03, 0.11, 0.01, 0.01] + [0 for i in range(993)])).to(\"cuda\")\n",
    "        loss = loss_fct(logits.view(-1, self.model.config.num_labels), labels.view(-1))\n",
    "        return (loss, outputs) if return_outputs else loss"
   ]
  },
  {
   "cell_type": "code",
   "execution_count": 18,
   "metadata": {},
   "outputs": [
    {
     "name": "stderr",
     "output_type": "stream",
     "text": [
      "Using cuda_amp half precision backend\n"
     ]
    }
   ],
   "source": [
    "trainer = Problem2Trainer(\n",
    "    model,\n",
    "    args,\n",
    "    train_dataset=proc_datasets[\"train\"],\n",
    "    eval_dataset=proc_datasets[\"test\"],\n",
    "    tokenizer=feature_extractor,\n",
    "    compute_metrics=compute_metrics,\n",
    "    data_collator=collate_fn,\n",
    "    callbacks=[EarlyStoppingCallback(early_stopping_patience=20)],\n",
    ")"
   ]
  },
  {
   "cell_type": "code",
   "execution_count": 19,
   "metadata": {
    "scrolled": true
   },
   "outputs": [
    {
     "name": "stderr",
     "output_type": "stream",
     "text": [
      "/home/holy/anaconda3/envs/health/lib/python3.10/site-packages/transformers/optimization.py:306: FutureWarning: This implementation of AdamW is deprecated and will be removed in a future version. Use the PyTorch implementation torch.optim.AdamW instead, or set `no_deprecation_warning=True` to disable this warning\n",
      "  warnings.warn(\n",
      "***** Running training *****\n",
      "  Num examples = 305\n",
      "  Num Epochs = 200\n",
      "  Instantaneous batch size per device = 32\n",
      "  Total train batch size (w. parallel, distributed & accumulation) = 128\n",
      "  Gradient Accumulation steps = 4\n",
      "  Total optimization steps = 400\n"
     ]
    },
    {
     "data": {
      "text/html": [
       "\n",
       "    <div>\n",
       "      \n",
       "      <progress value='68' max='400' style='width:300px; height:20px; vertical-align: middle;'></progress>\n",
       "      [ 68/400 03:45 < 18:54, 0.29 it/s, Epoch 33/200]\n",
       "    </div>\n",
       "    <table border=\"1\" class=\"dataframe\">\n",
       "  <thead>\n",
       " <tr style=\"text-align: left;\">\n",
       "      <th>Epoch</th>\n",
       "      <th>Training Loss</th>\n",
       "      <th>Validation Loss</th>\n",
       "      <th>Accuracy</th>\n",
       "    </tr>\n",
       "  </thead>\n",
       "  <tbody>\n",
       "    <tr>\n",
       "      <td>0</td>\n",
       "      <td>No log</td>\n",
       "      <td>9.743649</td>\n",
       "      <td>0.181818</td>\n",
       "    </tr>\n",
       "    <tr>\n",
       "      <td>1</td>\n",
       "      <td>No log</td>\n",
       "      <td>8.692075</td>\n",
       "      <td>0.181818</td>\n",
       "    </tr>\n",
       "    <tr>\n",
       "      <td>2</td>\n",
       "      <td>No log</td>\n",
       "      <td>6.065264</td>\n",
       "      <td>0.171717</td>\n",
       "    </tr>\n",
       "    <tr>\n",
       "      <td>3</td>\n",
       "      <td>No log</td>\n",
       "      <td>3.666787</td>\n",
       "      <td>0.242424</td>\n",
       "    </tr>\n",
       "    <tr>\n",
       "      <td>4</td>\n",
       "      <td>8.903400</td>\n",
       "      <td>2.704230</td>\n",
       "      <td>0.393939</td>\n",
       "    </tr>\n",
       "    <tr>\n",
       "      <td>5</td>\n",
       "      <td>8.903400</td>\n",
       "      <td>1.461288</td>\n",
       "      <td>0.626263</td>\n",
       "    </tr>\n",
       "    <tr>\n",
       "      <td>6</td>\n",
       "      <td>8.903400</td>\n",
       "      <td>0.612784</td>\n",
       "      <td>0.747475</td>\n",
       "    </tr>\n",
       "    <tr>\n",
       "      <td>7</td>\n",
       "      <td>8.903400</td>\n",
       "      <td>0.266724</td>\n",
       "      <td>0.707071</td>\n",
       "    </tr>\n",
       "    <tr>\n",
       "      <td>8</td>\n",
       "      <td>8.903400</td>\n",
       "      <td>0.287931</td>\n",
       "      <td>0.686869</td>\n",
       "    </tr>\n",
       "    <tr>\n",
       "      <td>9</td>\n",
       "      <td>1.205500</td>\n",
       "      <td>0.257502</td>\n",
       "      <td>0.696970</td>\n",
       "    </tr>\n",
       "    <tr>\n",
       "      <td>10</td>\n",
       "      <td>1.205500</td>\n",
       "      <td>0.223610</td>\n",
       "      <td>0.676768</td>\n",
       "    </tr>\n",
       "    <tr>\n",
       "      <td>11</td>\n",
       "      <td>1.205500</td>\n",
       "      <td>0.207085</td>\n",
       "      <td>0.686869</td>\n",
       "    </tr>\n",
       "    <tr>\n",
       "      <td>12</td>\n",
       "      <td>1.205500</td>\n",
       "      <td>0.201344</td>\n",
       "      <td>0.727273</td>\n",
       "    </tr>\n",
       "    <tr>\n",
       "      <td>13</td>\n",
       "      <td>1.205500</td>\n",
       "      <td>0.252419</td>\n",
       "      <td>0.777778</td>\n",
       "    </tr>\n",
       "    <tr>\n",
       "      <td>14</td>\n",
       "      <td>0.151100</td>\n",
       "      <td>0.342407</td>\n",
       "      <td>0.767677</td>\n",
       "    </tr>\n",
       "    <tr>\n",
       "      <td>15</td>\n",
       "      <td>0.151100</td>\n",
       "      <td>0.345592</td>\n",
       "      <td>0.777778</td>\n",
       "    </tr>\n",
       "    <tr>\n",
       "      <td>16</td>\n",
       "      <td>0.151100</td>\n",
       "      <td>0.204985</td>\n",
       "      <td>0.767677</td>\n",
       "    </tr>\n",
       "    <tr>\n",
       "      <td>17</td>\n",
       "      <td>0.151100</td>\n",
       "      <td>0.254627</td>\n",
       "      <td>0.737374</td>\n",
       "    </tr>\n",
       "    <tr>\n",
       "      <td>18</td>\n",
       "      <td>0.151100</td>\n",
       "      <td>0.415506</td>\n",
       "      <td>0.696970</td>\n",
       "    </tr>\n",
       "    <tr>\n",
       "      <td>19</td>\n",
       "      <td>0.110400</td>\n",
       "      <td>0.277431</td>\n",
       "      <td>0.727273</td>\n",
       "    </tr>\n",
       "    <tr>\n",
       "      <td>20</td>\n",
       "      <td>0.110400</td>\n",
       "      <td>0.496830</td>\n",
       "      <td>0.656566</td>\n",
       "    </tr>\n",
       "    <tr>\n",
       "      <td>21</td>\n",
       "      <td>0.110400</td>\n",
       "      <td>0.243767</td>\n",
       "      <td>0.747475</td>\n",
       "    </tr>\n",
       "    <tr>\n",
       "      <td>22</td>\n",
       "      <td>0.110400</td>\n",
       "      <td>0.240353</td>\n",
       "      <td>0.727273</td>\n",
       "    </tr>\n",
       "    <tr>\n",
       "      <td>23</td>\n",
       "      <td>0.110400</td>\n",
       "      <td>0.280586</td>\n",
       "      <td>0.737374</td>\n",
       "    </tr>\n",
       "    <tr>\n",
       "      <td>24</td>\n",
       "      <td>0.071100</td>\n",
       "      <td>0.506158</td>\n",
       "      <td>0.696970</td>\n",
       "    </tr>\n",
       "    <tr>\n",
       "      <td>25</td>\n",
       "      <td>0.071100</td>\n",
       "      <td>0.279163</td>\n",
       "      <td>0.737374</td>\n",
       "    </tr>\n",
       "    <tr>\n",
       "      <td>26</td>\n",
       "      <td>0.071100</td>\n",
       "      <td>0.282927</td>\n",
       "      <td>0.737374</td>\n",
       "    </tr>\n",
       "    <tr>\n",
       "      <td>27</td>\n",
       "      <td>0.071100</td>\n",
       "      <td>0.384518</td>\n",
       "      <td>0.777778</td>\n",
       "    </tr>\n",
       "    <tr>\n",
       "      <td>28</td>\n",
       "      <td>0.071100</td>\n",
       "      <td>0.648667</td>\n",
       "      <td>0.737374</td>\n",
       "    </tr>\n",
       "    <tr>\n",
       "      <td>29</td>\n",
       "      <td>0.097400</td>\n",
       "      <td>0.255687</td>\n",
       "      <td>0.717172</td>\n",
       "    </tr>\n",
       "    <tr>\n",
       "      <td>30</td>\n",
       "      <td>0.097400</td>\n",
       "      <td>0.273173</td>\n",
       "      <td>0.717172</td>\n",
       "    </tr>\n",
       "    <tr>\n",
       "      <td>31</td>\n",
       "      <td>0.097400</td>\n",
       "      <td>0.590698</td>\n",
       "      <td>0.676768</td>\n",
       "    </tr>\n",
       "    <tr>\n",
       "      <td>32</td>\n",
       "      <td>0.097400</td>\n",
       "      <td>0.385141</td>\n",
       "      <td>0.686869</td>\n",
       "    </tr>\n",
       "    <tr>\n",
       "      <td>33</td>\n",
       "      <td>0.097400</td>\n",
       "      <td>0.591210</td>\n",
       "      <td>0.676768</td>\n",
       "    </tr>\n",
       "  </tbody>\n",
       "</table><p>"
      ],
      "text/plain": [
       "<IPython.core.display.HTML object>"
      ]
     },
     "metadata": {},
     "output_type": "display_data"
    },
    {
     "name": "stderr",
     "output_type": "stream",
     "text": [
      "***** Running Evaluation *****\n",
      "  Num examples = 99\n",
      "  Batch size = 32\n",
      "Saving model checkpoint to save/problem2/pretrained__1e-3__pretrained|microsoft/resnet-152__3e-3/checkpoint-2\n",
      "Configuration saved in save/problem2/pretrained__1e-3__pretrained|microsoft/resnet-152__3e-3/checkpoint-2/config.json\n",
      "Model weights saved in save/problem2/pretrained__1e-3__pretrained|microsoft/resnet-152__3e-3/checkpoint-2/pytorch_model.bin\n",
      "Feature extractor saved in save/problem2/pretrained__1e-3__pretrained|microsoft/resnet-152__3e-3/checkpoint-2/preprocessor_config.json\n",
      "***** Running Evaluation *****\n",
      "  Num examples = 99\n",
      "  Batch size = 32\n",
      "Saving model checkpoint to save/problem2/pretrained__1e-3__pretrained|microsoft/resnet-152__3e-3/checkpoint-4\n",
      "Configuration saved in save/problem2/pretrained__1e-3__pretrained|microsoft/resnet-152__3e-3/checkpoint-4/config.json\n",
      "Model weights saved in save/problem2/pretrained__1e-3__pretrained|microsoft/resnet-152__3e-3/checkpoint-4/pytorch_model.bin\n",
      "Feature extractor saved in save/problem2/pretrained__1e-3__pretrained|microsoft/resnet-152__3e-3/checkpoint-4/preprocessor_config.json\n",
      "***** Running Evaluation *****\n",
      "  Num examples = 99\n",
      "  Batch size = 32\n",
      "Saving model checkpoint to save/problem2/pretrained__1e-3__pretrained|microsoft/resnet-152__3e-3/checkpoint-6\n",
      "Configuration saved in save/problem2/pretrained__1e-3__pretrained|microsoft/resnet-152__3e-3/checkpoint-6/config.json\n",
      "Model weights saved in save/problem2/pretrained__1e-3__pretrained|microsoft/resnet-152__3e-3/checkpoint-6/pytorch_model.bin\n",
      "Feature extractor saved in save/problem2/pretrained__1e-3__pretrained|microsoft/resnet-152__3e-3/checkpoint-6/preprocessor_config.json\n",
      "Deleting older checkpoint [save/problem2/pretrained__1e-3__pretrained|microsoft/resnet-152__3e-3/checkpoint-4] due to args.save_total_limit\n",
      "***** Running Evaluation *****\n",
      "  Num examples = 99\n",
      "  Batch size = 32\n",
      "Saving model checkpoint to save/problem2/pretrained__1e-3__pretrained|microsoft/resnet-152__3e-3/checkpoint-8\n",
      "Configuration saved in save/problem2/pretrained__1e-3__pretrained|microsoft/resnet-152__3e-3/checkpoint-8/config.json\n",
      "Model weights saved in save/problem2/pretrained__1e-3__pretrained|microsoft/resnet-152__3e-3/checkpoint-8/pytorch_model.bin\n",
      "Feature extractor saved in save/problem2/pretrained__1e-3__pretrained|microsoft/resnet-152__3e-3/checkpoint-8/preprocessor_config.json\n",
      "Deleting older checkpoint [save/problem2/pretrained__1e-3__pretrained|microsoft/resnet-152__3e-3/checkpoint-2] due to args.save_total_limit\n",
      "Deleting older checkpoint [save/problem2/pretrained__1e-3__pretrained|microsoft/resnet-152__3e-3/checkpoint-6] due to args.save_total_limit\n",
      "***** Running Evaluation *****\n",
      "  Num examples = 99\n",
      "  Batch size = 32\n",
      "Saving model checkpoint to save/problem2/pretrained__1e-3__pretrained|microsoft/resnet-152__3e-3/checkpoint-10\n",
      "Configuration saved in save/problem2/pretrained__1e-3__pretrained|microsoft/resnet-152__3e-3/checkpoint-10/config.json\n",
      "Model weights saved in save/problem2/pretrained__1e-3__pretrained|microsoft/resnet-152__3e-3/checkpoint-10/pytorch_model.bin\n",
      "Feature extractor saved in save/problem2/pretrained__1e-3__pretrained|microsoft/resnet-152__3e-3/checkpoint-10/preprocessor_config.json\n",
      "Deleting older checkpoint [save/problem2/pretrained__1e-3__pretrained|microsoft/resnet-152__3e-3/checkpoint-8] due to args.save_total_limit\n",
      "***** Running Evaluation *****\n",
      "  Num examples = 99\n",
      "  Batch size = 32\n",
      "Saving model checkpoint to save/problem2/pretrained__1e-3__pretrained|microsoft/resnet-152__3e-3/checkpoint-12\n",
      "Configuration saved in save/problem2/pretrained__1e-3__pretrained|microsoft/resnet-152__3e-3/checkpoint-12/config.json\n",
      "Model weights saved in save/problem2/pretrained__1e-3__pretrained|microsoft/resnet-152__3e-3/checkpoint-12/pytorch_model.bin\n",
      "Feature extractor saved in save/problem2/pretrained__1e-3__pretrained|microsoft/resnet-152__3e-3/checkpoint-12/preprocessor_config.json\n",
      "Deleting older checkpoint [save/problem2/pretrained__1e-3__pretrained|microsoft/resnet-152__3e-3/checkpoint-10] due to args.save_total_limit\n",
      "***** Running Evaluation *****\n",
      "  Num examples = 99\n",
      "  Batch size = 32\n",
      "Saving model checkpoint to save/problem2/pretrained__1e-3__pretrained|microsoft/resnet-152__3e-3/checkpoint-14\n",
      "Configuration saved in save/problem2/pretrained__1e-3__pretrained|microsoft/resnet-152__3e-3/checkpoint-14/config.json\n",
      "Model weights saved in save/problem2/pretrained__1e-3__pretrained|microsoft/resnet-152__3e-3/checkpoint-14/pytorch_model.bin\n",
      "Feature extractor saved in save/problem2/pretrained__1e-3__pretrained|microsoft/resnet-152__3e-3/checkpoint-14/preprocessor_config.json\n",
      "Deleting older checkpoint [save/problem2/pretrained__1e-3__pretrained|microsoft/resnet-152__3e-3/checkpoint-12] due to args.save_total_limit\n",
      "***** Running Evaluation *****\n",
      "  Num examples = 99\n",
      "  Batch size = 32\n",
      "Saving model checkpoint to save/problem2/pretrained__1e-3__pretrained|microsoft/resnet-152__3e-3/checkpoint-16\n",
      "Configuration saved in save/problem2/pretrained__1e-3__pretrained|microsoft/resnet-152__3e-3/checkpoint-16/config.json\n",
      "Model weights saved in save/problem2/pretrained__1e-3__pretrained|microsoft/resnet-152__3e-3/checkpoint-16/pytorch_model.bin\n",
      "Feature extractor saved in save/problem2/pretrained__1e-3__pretrained|microsoft/resnet-152__3e-3/checkpoint-16/preprocessor_config.json\n",
      "***** Running Evaluation *****\n",
      "  Num examples = 99\n",
      "  Batch size = 32\n",
      "Saving model checkpoint to save/problem2/pretrained__1e-3__pretrained|microsoft/resnet-152__3e-3/checkpoint-18\n",
      "Configuration saved in save/problem2/pretrained__1e-3__pretrained|microsoft/resnet-152__3e-3/checkpoint-18/config.json\n",
      "Model weights saved in save/problem2/pretrained__1e-3__pretrained|microsoft/resnet-152__3e-3/checkpoint-18/pytorch_model.bin\n",
      "Feature extractor saved in save/problem2/pretrained__1e-3__pretrained|microsoft/resnet-152__3e-3/checkpoint-18/preprocessor_config.json\n",
      "Deleting older checkpoint [save/problem2/pretrained__1e-3__pretrained|microsoft/resnet-152__3e-3/checkpoint-16] due to args.save_total_limit\n",
      "***** Running Evaluation *****\n",
      "  Num examples = 99\n",
      "  Batch size = 32\n",
      "Saving model checkpoint to save/problem2/pretrained__1e-3__pretrained|microsoft/resnet-152__3e-3/checkpoint-20\n",
      "Configuration saved in save/problem2/pretrained__1e-3__pretrained|microsoft/resnet-152__3e-3/checkpoint-20/config.json\n",
      "Model weights saved in save/problem2/pretrained__1e-3__pretrained|microsoft/resnet-152__3e-3/checkpoint-20/pytorch_model.bin\n",
      "Feature extractor saved in save/problem2/pretrained__1e-3__pretrained|microsoft/resnet-152__3e-3/checkpoint-20/preprocessor_config.json\n",
      "Deleting older checkpoint [save/problem2/pretrained__1e-3__pretrained|microsoft/resnet-152__3e-3/checkpoint-18] due to args.save_total_limit\n",
      "***** Running Evaluation *****\n",
      "  Num examples = 99\n",
      "  Batch size = 32\n",
      "Saving model checkpoint to save/problem2/pretrained__1e-3__pretrained|microsoft/resnet-152__3e-3/checkpoint-22\n",
      "Configuration saved in save/problem2/pretrained__1e-3__pretrained|microsoft/resnet-152__3e-3/checkpoint-22/config.json\n",
      "Model weights saved in save/problem2/pretrained__1e-3__pretrained|microsoft/resnet-152__3e-3/checkpoint-22/pytorch_model.bin\n",
      "Feature extractor saved in save/problem2/pretrained__1e-3__pretrained|microsoft/resnet-152__3e-3/checkpoint-22/preprocessor_config.json\n",
      "Deleting older checkpoint [save/problem2/pretrained__1e-3__pretrained|microsoft/resnet-152__3e-3/checkpoint-20] due to args.save_total_limit\n",
      "***** Running Evaluation *****\n",
      "  Num examples = 99\n",
      "  Batch size = 32\n",
      "Saving model checkpoint to save/problem2/pretrained__1e-3__pretrained|microsoft/resnet-152__3e-3/checkpoint-24\n",
      "Configuration saved in save/problem2/pretrained__1e-3__pretrained|microsoft/resnet-152__3e-3/checkpoint-24/config.json\n",
      "Model weights saved in save/problem2/pretrained__1e-3__pretrained|microsoft/resnet-152__3e-3/checkpoint-24/pytorch_model.bin\n",
      "Feature extractor saved in save/problem2/pretrained__1e-3__pretrained|microsoft/resnet-152__3e-3/checkpoint-24/preprocessor_config.json\n",
      "Deleting older checkpoint [save/problem2/pretrained__1e-3__pretrained|microsoft/resnet-152__3e-3/checkpoint-22] due to args.save_total_limit\n",
      "***** Running Evaluation *****\n",
      "  Num examples = 99\n",
      "  Batch size = 32\n",
      "Saving model checkpoint to save/problem2/pretrained__1e-3__pretrained|microsoft/resnet-152__3e-3/checkpoint-26\n"
     ]
    },
    {
     "name": "stderr",
     "output_type": "stream",
     "text": [
      "Configuration saved in save/problem2/pretrained__1e-3__pretrained|microsoft/resnet-152__3e-3/checkpoint-26/config.json\n",
      "Model weights saved in save/problem2/pretrained__1e-3__pretrained|microsoft/resnet-152__3e-3/checkpoint-26/pytorch_model.bin\n",
      "Feature extractor saved in save/problem2/pretrained__1e-3__pretrained|microsoft/resnet-152__3e-3/checkpoint-26/preprocessor_config.json\n",
      "Deleting older checkpoint [save/problem2/pretrained__1e-3__pretrained|microsoft/resnet-152__3e-3/checkpoint-24] due to args.save_total_limit\n",
      "***** Running Evaluation *****\n",
      "  Num examples = 99\n",
      "  Batch size = 32\n",
      "Saving model checkpoint to save/problem2/pretrained__1e-3__pretrained|microsoft/resnet-152__3e-3/checkpoint-28\n",
      "Configuration saved in save/problem2/pretrained__1e-3__pretrained|microsoft/resnet-152__3e-3/checkpoint-28/config.json\n",
      "Model weights saved in save/problem2/pretrained__1e-3__pretrained|microsoft/resnet-152__3e-3/checkpoint-28/pytorch_model.bin\n",
      "Feature extractor saved in save/problem2/pretrained__1e-3__pretrained|microsoft/resnet-152__3e-3/checkpoint-28/preprocessor_config.json\n",
      "Deleting older checkpoint [save/problem2/pretrained__1e-3__pretrained|microsoft/resnet-152__3e-3/checkpoint-14] due to args.save_total_limit\n",
      "Deleting older checkpoint [save/problem2/pretrained__1e-3__pretrained|microsoft/resnet-152__3e-3/checkpoint-26] due to args.save_total_limit\n",
      "***** Running Evaluation *****\n",
      "  Num examples = 99\n",
      "  Batch size = 32\n",
      "Saving model checkpoint to save/problem2/pretrained__1e-3__pretrained|microsoft/resnet-152__3e-3/checkpoint-30\n",
      "Configuration saved in save/problem2/pretrained__1e-3__pretrained|microsoft/resnet-152__3e-3/checkpoint-30/config.json\n",
      "Model weights saved in save/problem2/pretrained__1e-3__pretrained|microsoft/resnet-152__3e-3/checkpoint-30/pytorch_model.bin\n",
      "Feature extractor saved in save/problem2/pretrained__1e-3__pretrained|microsoft/resnet-152__3e-3/checkpoint-30/preprocessor_config.json\n",
      "***** Running Evaluation *****\n",
      "  Num examples = 99\n",
      "  Batch size = 32\n",
      "Saving model checkpoint to save/problem2/pretrained__1e-3__pretrained|microsoft/resnet-152__3e-3/checkpoint-32\n",
      "Configuration saved in save/problem2/pretrained__1e-3__pretrained|microsoft/resnet-152__3e-3/checkpoint-32/config.json\n",
      "Model weights saved in save/problem2/pretrained__1e-3__pretrained|microsoft/resnet-152__3e-3/checkpoint-32/pytorch_model.bin\n",
      "Feature extractor saved in save/problem2/pretrained__1e-3__pretrained|microsoft/resnet-152__3e-3/checkpoint-32/preprocessor_config.json\n",
      "Deleting older checkpoint [save/problem2/pretrained__1e-3__pretrained|microsoft/resnet-152__3e-3/checkpoint-30] due to args.save_total_limit\n",
      "***** Running Evaluation *****\n",
      "  Num examples = 99\n",
      "  Batch size = 32\n",
      "Saving model checkpoint to save/problem2/pretrained__1e-3__pretrained|microsoft/resnet-152__3e-3/checkpoint-34\n",
      "Configuration saved in save/problem2/pretrained__1e-3__pretrained|microsoft/resnet-152__3e-3/checkpoint-34/config.json\n",
      "Model weights saved in save/problem2/pretrained__1e-3__pretrained|microsoft/resnet-152__3e-3/checkpoint-34/pytorch_model.bin\n",
      "Feature extractor saved in save/problem2/pretrained__1e-3__pretrained|microsoft/resnet-152__3e-3/checkpoint-34/preprocessor_config.json\n",
      "Deleting older checkpoint [save/problem2/pretrained__1e-3__pretrained|microsoft/resnet-152__3e-3/checkpoint-32] due to args.save_total_limit\n",
      "***** Running Evaluation *****\n",
      "  Num examples = 99\n",
      "  Batch size = 32\n",
      "Saving model checkpoint to save/problem2/pretrained__1e-3__pretrained|microsoft/resnet-152__3e-3/checkpoint-36\n",
      "Configuration saved in save/problem2/pretrained__1e-3__pretrained|microsoft/resnet-152__3e-3/checkpoint-36/config.json\n",
      "Model weights saved in save/problem2/pretrained__1e-3__pretrained|microsoft/resnet-152__3e-3/checkpoint-36/pytorch_model.bin\n",
      "Feature extractor saved in save/problem2/pretrained__1e-3__pretrained|microsoft/resnet-152__3e-3/checkpoint-36/preprocessor_config.json\n",
      "Deleting older checkpoint [save/problem2/pretrained__1e-3__pretrained|microsoft/resnet-152__3e-3/checkpoint-34] due to args.save_total_limit\n",
      "***** Running Evaluation *****\n",
      "  Num examples = 99\n",
      "  Batch size = 32\n",
      "Saving model checkpoint to save/problem2/pretrained__1e-3__pretrained|microsoft/resnet-152__3e-3/checkpoint-38\n",
      "Configuration saved in save/problem2/pretrained__1e-3__pretrained|microsoft/resnet-152__3e-3/checkpoint-38/config.json\n",
      "Model weights saved in save/problem2/pretrained__1e-3__pretrained|microsoft/resnet-152__3e-3/checkpoint-38/pytorch_model.bin\n",
      "Feature extractor saved in save/problem2/pretrained__1e-3__pretrained|microsoft/resnet-152__3e-3/checkpoint-38/preprocessor_config.json\n",
      "Deleting older checkpoint [save/problem2/pretrained__1e-3__pretrained|microsoft/resnet-152__3e-3/checkpoint-36] due to args.save_total_limit\n",
      "***** Running Evaluation *****\n",
      "  Num examples = 99\n",
      "  Batch size = 32\n",
      "Saving model checkpoint to save/problem2/pretrained__1e-3__pretrained|microsoft/resnet-152__3e-3/checkpoint-40\n",
      "Configuration saved in save/problem2/pretrained__1e-3__pretrained|microsoft/resnet-152__3e-3/checkpoint-40/config.json\n",
      "Model weights saved in save/problem2/pretrained__1e-3__pretrained|microsoft/resnet-152__3e-3/checkpoint-40/pytorch_model.bin\n",
      "Feature extractor saved in save/problem2/pretrained__1e-3__pretrained|microsoft/resnet-152__3e-3/checkpoint-40/preprocessor_config.json\n",
      "Deleting older checkpoint [save/problem2/pretrained__1e-3__pretrained|microsoft/resnet-152__3e-3/checkpoint-38] due to args.save_total_limit\n",
      "***** Running Evaluation *****\n",
      "  Num examples = 99\n",
      "  Batch size = 32\n",
      "Saving model checkpoint to save/problem2/pretrained__1e-3__pretrained|microsoft/resnet-152__3e-3/checkpoint-42\n",
      "Configuration saved in save/problem2/pretrained__1e-3__pretrained|microsoft/resnet-152__3e-3/checkpoint-42/config.json\n",
      "Model weights saved in save/problem2/pretrained__1e-3__pretrained|microsoft/resnet-152__3e-3/checkpoint-42/pytorch_model.bin\n",
      "Feature extractor saved in save/problem2/pretrained__1e-3__pretrained|microsoft/resnet-152__3e-3/checkpoint-42/preprocessor_config.json\n",
      "Deleting older checkpoint [save/problem2/pretrained__1e-3__pretrained|microsoft/resnet-152__3e-3/checkpoint-40] due to args.save_total_limit\n",
      "***** Running Evaluation *****\n",
      "  Num examples = 99\n",
      "  Batch size = 32\n",
      "Saving model checkpoint to save/problem2/pretrained__1e-3__pretrained|microsoft/resnet-152__3e-3/checkpoint-44\n",
      "Configuration saved in save/problem2/pretrained__1e-3__pretrained|microsoft/resnet-152__3e-3/checkpoint-44/config.json\n",
      "Model weights saved in save/problem2/pretrained__1e-3__pretrained|microsoft/resnet-152__3e-3/checkpoint-44/pytorch_model.bin\n",
      "Feature extractor saved in save/problem2/pretrained__1e-3__pretrained|microsoft/resnet-152__3e-3/checkpoint-44/preprocessor_config.json\n",
      "Deleting older checkpoint [save/problem2/pretrained__1e-3__pretrained|microsoft/resnet-152__3e-3/checkpoint-42] due to args.save_total_limit\n",
      "***** Running Evaluation *****\n",
      "  Num examples = 99\n",
      "  Batch size = 32\n",
      "Saving model checkpoint to save/problem2/pretrained__1e-3__pretrained|microsoft/resnet-152__3e-3/checkpoint-46\n",
      "Configuration saved in save/problem2/pretrained__1e-3__pretrained|microsoft/resnet-152__3e-3/checkpoint-46/config.json\n",
      "Model weights saved in save/problem2/pretrained__1e-3__pretrained|microsoft/resnet-152__3e-3/checkpoint-46/pytorch_model.bin\n",
      "Feature extractor saved in save/problem2/pretrained__1e-3__pretrained|microsoft/resnet-152__3e-3/checkpoint-46/preprocessor_config.json\n",
      "Deleting older checkpoint [save/problem2/pretrained__1e-3__pretrained|microsoft/resnet-152__3e-3/checkpoint-44] due to args.save_total_limit\n",
      "***** Running Evaluation *****\n",
      "  Num examples = 99\n",
      "  Batch size = 32\n",
      "Saving model checkpoint to save/problem2/pretrained__1e-3__pretrained|microsoft/resnet-152__3e-3/checkpoint-48\n",
      "Configuration saved in save/problem2/pretrained__1e-3__pretrained|microsoft/resnet-152__3e-3/checkpoint-48/config.json\n",
      "Model weights saved in save/problem2/pretrained__1e-3__pretrained|microsoft/resnet-152__3e-3/checkpoint-48/pytorch_model.bin\n",
      "Feature extractor saved in save/problem2/pretrained__1e-3__pretrained|microsoft/resnet-152__3e-3/checkpoint-48/preprocessor_config.json\n",
      "Deleting older checkpoint [save/problem2/pretrained__1e-3__pretrained|microsoft/resnet-152__3e-3/checkpoint-46] due to args.save_total_limit\n"
     ]
    },
    {
     "name": "stderr",
     "output_type": "stream",
     "text": [
      "***** Running Evaluation *****\n",
      "  Num examples = 99\n",
      "  Batch size = 32\n",
      "Saving model checkpoint to save/problem2/pretrained__1e-3__pretrained|microsoft/resnet-152__3e-3/checkpoint-50\n",
      "Configuration saved in save/problem2/pretrained__1e-3__pretrained|microsoft/resnet-152__3e-3/checkpoint-50/config.json\n",
      "Model weights saved in save/problem2/pretrained__1e-3__pretrained|microsoft/resnet-152__3e-3/checkpoint-50/pytorch_model.bin\n",
      "Feature extractor saved in save/problem2/pretrained__1e-3__pretrained|microsoft/resnet-152__3e-3/checkpoint-50/preprocessor_config.json\n",
      "Deleting older checkpoint [save/problem2/pretrained__1e-3__pretrained|microsoft/resnet-152__3e-3/checkpoint-48] due to args.save_total_limit\n",
      "***** Running Evaluation *****\n",
      "  Num examples = 99\n",
      "  Batch size = 32\n",
      "Saving model checkpoint to save/problem2/pretrained__1e-3__pretrained|microsoft/resnet-152__3e-3/checkpoint-52\n",
      "Configuration saved in save/problem2/pretrained__1e-3__pretrained|microsoft/resnet-152__3e-3/checkpoint-52/config.json\n",
      "Model weights saved in save/problem2/pretrained__1e-3__pretrained|microsoft/resnet-152__3e-3/checkpoint-52/pytorch_model.bin\n",
      "Feature extractor saved in save/problem2/pretrained__1e-3__pretrained|microsoft/resnet-152__3e-3/checkpoint-52/preprocessor_config.json\n",
      "Deleting older checkpoint [save/problem2/pretrained__1e-3__pretrained|microsoft/resnet-152__3e-3/checkpoint-50] due to args.save_total_limit\n",
      "***** Running Evaluation *****\n",
      "  Num examples = 99\n",
      "  Batch size = 32\n",
      "Saving model checkpoint to save/problem2/pretrained__1e-3__pretrained|microsoft/resnet-152__3e-3/checkpoint-54\n",
      "Configuration saved in save/problem2/pretrained__1e-3__pretrained|microsoft/resnet-152__3e-3/checkpoint-54/config.json\n",
      "Model weights saved in save/problem2/pretrained__1e-3__pretrained|microsoft/resnet-152__3e-3/checkpoint-54/pytorch_model.bin\n",
      "Feature extractor saved in save/problem2/pretrained__1e-3__pretrained|microsoft/resnet-152__3e-3/checkpoint-54/preprocessor_config.json\n",
      "Deleting older checkpoint [save/problem2/pretrained__1e-3__pretrained|microsoft/resnet-152__3e-3/checkpoint-52] due to args.save_total_limit\n",
      "***** Running Evaluation *****\n",
      "  Num examples = 99\n",
      "  Batch size = 32\n",
      "Saving model checkpoint to save/problem2/pretrained__1e-3__pretrained|microsoft/resnet-152__3e-3/checkpoint-56\n",
      "Configuration saved in save/problem2/pretrained__1e-3__pretrained|microsoft/resnet-152__3e-3/checkpoint-56/config.json\n",
      "Model weights saved in save/problem2/pretrained__1e-3__pretrained|microsoft/resnet-152__3e-3/checkpoint-56/pytorch_model.bin\n",
      "Feature extractor saved in save/problem2/pretrained__1e-3__pretrained|microsoft/resnet-152__3e-3/checkpoint-56/preprocessor_config.json\n",
      "Deleting older checkpoint [save/problem2/pretrained__1e-3__pretrained|microsoft/resnet-152__3e-3/checkpoint-54] due to args.save_total_limit\n",
      "***** Running Evaluation *****\n",
      "  Num examples = 99\n",
      "  Batch size = 32\n",
      "Saving model checkpoint to save/problem2/pretrained__1e-3__pretrained|microsoft/resnet-152__3e-3/checkpoint-58\n",
      "Configuration saved in save/problem2/pretrained__1e-3__pretrained|microsoft/resnet-152__3e-3/checkpoint-58/config.json\n",
      "Model weights saved in save/problem2/pretrained__1e-3__pretrained|microsoft/resnet-152__3e-3/checkpoint-58/pytorch_model.bin\n",
      "Feature extractor saved in save/problem2/pretrained__1e-3__pretrained|microsoft/resnet-152__3e-3/checkpoint-58/preprocessor_config.json\n",
      "Deleting older checkpoint [save/problem2/pretrained__1e-3__pretrained|microsoft/resnet-152__3e-3/checkpoint-56] due to args.save_total_limit\n",
      "***** Running Evaluation *****\n",
      "  Num examples = 99\n",
      "  Batch size = 32\n",
      "Saving model checkpoint to save/problem2/pretrained__1e-3__pretrained|microsoft/resnet-152__3e-3/checkpoint-60\n",
      "Configuration saved in save/problem2/pretrained__1e-3__pretrained|microsoft/resnet-152__3e-3/checkpoint-60/config.json\n",
      "Model weights saved in save/problem2/pretrained__1e-3__pretrained|microsoft/resnet-152__3e-3/checkpoint-60/pytorch_model.bin\n",
      "Feature extractor saved in save/problem2/pretrained__1e-3__pretrained|microsoft/resnet-152__3e-3/checkpoint-60/preprocessor_config.json\n",
      "Deleting older checkpoint [save/problem2/pretrained__1e-3__pretrained|microsoft/resnet-152__3e-3/checkpoint-58] due to args.save_total_limit\n",
      "***** Running Evaluation *****\n",
      "  Num examples = 99\n",
      "  Batch size = 32\n",
      "Saving model checkpoint to save/problem2/pretrained__1e-3__pretrained|microsoft/resnet-152__3e-3/checkpoint-62\n",
      "Configuration saved in save/problem2/pretrained__1e-3__pretrained|microsoft/resnet-152__3e-3/checkpoint-62/config.json\n",
      "Model weights saved in save/problem2/pretrained__1e-3__pretrained|microsoft/resnet-152__3e-3/checkpoint-62/pytorch_model.bin\n",
      "Feature extractor saved in save/problem2/pretrained__1e-3__pretrained|microsoft/resnet-152__3e-3/checkpoint-62/preprocessor_config.json\n",
      "Deleting older checkpoint [save/problem2/pretrained__1e-3__pretrained|microsoft/resnet-152__3e-3/checkpoint-60] due to args.save_total_limit\n",
      "***** Running Evaluation *****\n",
      "  Num examples = 99\n",
      "  Batch size = 32\n",
      "Saving model checkpoint to save/problem2/pretrained__1e-3__pretrained|microsoft/resnet-152__3e-3/checkpoint-64\n",
      "Configuration saved in save/problem2/pretrained__1e-3__pretrained|microsoft/resnet-152__3e-3/checkpoint-64/config.json\n",
      "Model weights saved in save/problem2/pretrained__1e-3__pretrained|microsoft/resnet-152__3e-3/checkpoint-64/pytorch_model.bin\n",
      "Feature extractor saved in save/problem2/pretrained__1e-3__pretrained|microsoft/resnet-152__3e-3/checkpoint-64/preprocessor_config.json\n",
      "Deleting older checkpoint [save/problem2/pretrained__1e-3__pretrained|microsoft/resnet-152__3e-3/checkpoint-62] due to args.save_total_limit\n",
      "***** Running Evaluation *****\n",
      "  Num examples = 99\n",
      "  Batch size = 32\n",
      "Saving model checkpoint to save/problem2/pretrained__1e-3__pretrained|microsoft/resnet-152__3e-3/checkpoint-66\n",
      "Configuration saved in save/problem2/pretrained__1e-3__pretrained|microsoft/resnet-152__3e-3/checkpoint-66/config.json\n",
      "Model weights saved in save/problem2/pretrained__1e-3__pretrained|microsoft/resnet-152__3e-3/checkpoint-66/pytorch_model.bin\n",
      "Feature extractor saved in save/problem2/pretrained__1e-3__pretrained|microsoft/resnet-152__3e-3/checkpoint-66/preprocessor_config.json\n",
      "Deleting older checkpoint [save/problem2/pretrained__1e-3__pretrained|microsoft/resnet-152__3e-3/checkpoint-64] due to args.save_total_limit\n",
      "***** Running Evaluation *****\n",
      "  Num examples = 99\n",
      "  Batch size = 32\n",
      "Saving model checkpoint to save/problem2/pretrained__1e-3__pretrained|microsoft/resnet-152__3e-3/checkpoint-68\n",
      "Configuration saved in save/problem2/pretrained__1e-3__pretrained|microsoft/resnet-152__3e-3/checkpoint-68/config.json\n",
      "Model weights saved in save/problem2/pretrained__1e-3__pretrained|microsoft/resnet-152__3e-3/checkpoint-68/pytorch_model.bin\n",
      "Feature extractor saved in save/problem2/pretrained__1e-3__pretrained|microsoft/resnet-152__3e-3/checkpoint-68/preprocessor_config.json\n",
      "Deleting older checkpoint [save/problem2/pretrained__1e-3__pretrained|microsoft/resnet-152__3e-3/checkpoint-66] due to args.save_total_limit\n",
      "\n",
      "\n",
      "Training completed. Do not forget to share your model on huggingface.co/models =)\n",
      "\n",
      "\n",
      "Loading best model from save/problem2/pretrained__1e-3__pretrained|microsoft/resnet-152__3e-3/checkpoint-28 (score: 0.7777777777777778).\n",
      "Saving model checkpoint to save/problem2/pretrained__1e-3__pretrained|microsoft/resnet-152__3e-3\n",
      "Configuration saved in save/problem2/pretrained__1e-3__pretrained|microsoft/resnet-152__3e-3/config.json\n",
      "Model weights saved in save/problem2/pretrained__1e-3__pretrained|microsoft/resnet-152__3e-3/pytorch_model.bin\n",
      "Feature extractor saved in save/problem2/pretrained__1e-3__pretrained|microsoft/resnet-152__3e-3/preprocessor_config.json\n"
     ]
    },
    {
     "name": "stdout",
     "output_type": "stream",
     "text": [
      "***** train metrics *****\n",
      "  epoch                    =        33.8\n",
      "  total_flos               = 525039565GF\n",
      "  train_loss               =      1.5579\n",
      "  train_runtime            =  0:04:43.55\n",
      "  train_samples_per_second =     215.129\n",
      "  train_steps_per_second   =       1.411\n"
     ]
    }
   ],
   "source": [
    "train_results = trainer.train()\n",
    "# rest is optional but nice to have\n",
    "trainer.save_model()\n",
    "trainer.log_metrics(\"train\", train_results.metrics)\n",
    "trainer.save_metrics(\"train\", train_results.metrics)\n",
    "trainer.save_state()"
   ]
  },
  {
   "cell_type": "code",
   "execution_count": 20,
   "metadata": {
    "scrolled": true
   },
   "outputs": [
    {
     "name": "stderr",
     "output_type": "stream",
     "text": [
      "***** Running Evaluation *****\n",
      "  Num examples = 99\n",
      "  Batch size = 32\n"
     ]
    },
    {
     "data": {
      "text/html": [
       "\n",
       "    <div>\n",
       "      \n",
       "      <progress value='14' max='4' style='width:300px; height:20px; vertical-align: middle;'></progress>\n",
       "      [4/4 00:02]\n",
       "    </div>\n",
       "    "
      ],
      "text/plain": [
       "<IPython.core.display.HTML object>"
      ]
     },
     "metadata": {},
     "output_type": "display_data"
    },
    {
     "name": "stdout",
     "output_type": "stream",
     "text": [
      "***** test metrics *****\n",
      "  epoch                   =       33.8\n",
      "  eval_accuracy           =     0.7778\n",
      "  eval_loss               =     0.2524\n",
      "  eval_runtime            = 0:00:01.55\n",
      "  eval_samples_per_second =     63.759\n",
      "  eval_steps_per_second   =      2.576\n"
     ]
    }
   ],
   "source": [
    "metrics = trainer.evaluate(proc_datasets[\"test\"])\n",
    "# some nice to haves:\n",
    "trainer.log_metrics(\"test\", metrics)\n",
    "trainer.save_metrics(\"test\", metrics)"
   ]
  },
  {
   "cell_type": "code",
   "execution_count": 21,
   "metadata": {},
   "outputs": [],
   "source": [
    "# metrics = trainer.evaluate(proc_datasets[\"valid\"])\n",
    "# # some nice to haves:\n",
    "# trainer.log_metrics(\"valid\", metrics)\n",
    "# trainer.save_metrics(\"valid\", metrics)"
   ]
  },
  {
   "cell_type": "code",
   "execution_count": 22,
   "metadata": {
    "scrolled": true
   },
   "outputs": [
    {
     "name": "stderr",
     "output_type": "stream",
     "text": [
      "***** Running Evaluation *****\n",
      "  Num examples = 305\n",
      "  Batch size = 32\n"
     ]
    },
    {
     "name": "stdout",
     "output_type": "stream",
     "text": [
      "***** train metrics *****\n",
      "  epoch                   =       33.8\n",
      "  eval_accuracy           =     0.8787\n",
      "  eval_loss               =     0.0652\n",
      "  eval_runtime            = 0:00:02.37\n",
      "  eval_samples_per_second =    128.223\n",
      "  eval_steps_per_second   =      4.204\n"
     ]
    }
   ],
   "source": [
    "metrics = trainer.evaluate(proc_datasets[\"train\"])\n",
    "# some nice to haves:\n",
    "trainer.log_metrics(\"train\", metrics)\n",
    "trainer.save_metrics(\"train\", metrics)"
   ]
  },
  {
   "cell_type": "code",
   "execution_count": null,
   "metadata": {},
   "outputs": [],
   "source": []
  },
  {
   "cell_type": "code",
   "execution_count": null,
   "metadata": {},
   "outputs": [],
   "source": []
  }
 ],
 "metadata": {
  "kernelspec": {
   "display_name": "Python 3 (ipykernel)",
   "language": "python",
   "name": "python3"
  },
  "language_info": {
   "codemirror_mode": {
    "name": "ipython",
    "version": 3
   },
   "file_extension": ".py",
   "mimetype": "text/x-python",
   "name": "python",
   "nbconvert_exporter": "python",
   "pygments_lexer": "ipython3",
   "version": "3.10.6"
  },
  "vscode": {
   "interpreter": {
    "hash": "d2f67f6f02098114f1eb667dbde229539e133e34a85b887b9dc3eea951e127e9"
   }
  }
 },
 "nbformat": 4,
 "nbformat_minor": 2
}
