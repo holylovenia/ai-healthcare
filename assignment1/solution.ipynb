{
 "cells": [
  {
   "cell_type": "markdown",
   "metadata": {},
   "source": [
    "ELEC6910X Advanced Topics in AI and Healthcare"
   ]
  },
  {
   "cell_type": "markdown",
   "metadata": {},
   "source": [
    "# Assignment 1"
   ]
  },
  {
   "cell_type": "markdown",
   "metadata": {},
   "source": [
    "***Holy Lovenia - 20814158***"
   ]
  },
  {
   "cell_type": "markdown",
   "metadata": {},
   "source": [
    "------"
   ]
  },
  {
   "cell_type": "code",
   "execution_count": 1,
   "metadata": {},
   "outputs": [],
   "source": [
    "from torch.utils.data import Dataset\n",
    "from torchvision import datasets\n",
    "\n",
    "import h5py\n",
    "import os\n",
    "import pandas as pd\n",
    "import torch"
   ]
  },
  {
   "cell_type": "markdown",
   "metadata": {},
   "source": [
    "## Problem 1"
   ]
  },
  {
   "cell_type": "markdown",
   "metadata": {},
   "source": [
    "In this problem, you are required to implement a 3D segmentation network (e.g., 3d unet), including\n",
    "the model, dataloader, training/testing."
   ]
  },
  {
   "cell_type": "code",
   "execution_count": 5,
   "metadata": {},
   "outputs": [],
   "source": [
    "class Problem1Dataset(Dataset):\n",
    "    def __init__(self, dir_path, column_names=[\"image\", \"label\"], *args, **kwargs):\n",
    "        super().__init__(*args, **kwargs)\n",
    "        self.dir_path = dir_path\n",
    "        self.column_names = column_names\n",
    "        self._load_all_data_from_dir(dir_path)\n",
    "    \n",
    "    def _load_h5_data(self, file_path):\n",
    "        hf = h5py.File(file_path, \"r\")\n",
    "        return hf\n",
    "\n",
    "    def _load_all_data_from_dir(self, dir_path):\n",
    "        df_dict = {}\n",
    "        for col in self.column_names:\n",
    "            df_dict[col] = []\n",
    "\n",
    "        for file_name in os.listdir(dir_path):\n",
    "            file_path = os.path.join(dir_path, file_name)\n",
    "            if os.path.isfile(file_path) and file_path.endswith(\".h5\"):\n",
    "                data = self._load_h5_data(file_path)\n",
    "                n_data = len(data[self.column_names[0]])\n",
    "                for col in self.column_names:\n",
    "                    df_dict[col] += [data[col][i] for i in range(n_data)]\n",
    "\n",
    "        self.dataset = pd.DataFrame.from_dict(df_dict)\n",
    "\n",
    "    def __len__(self):\n",
    "        return len(self.dataset)\n",
    "\n",
    "    def __getitem__(self, index):\n",
    "        return self.dataset.iloc[index]"
   ]
  }
 ],
 "metadata": {
  "kernelspec": {
   "display_name": "Python 3.10.6 ('health')",
   "language": "python",
   "name": "python3"
  },
  "language_info": {
   "codemirror_mode": {
    "name": "ipython",
    "version": 3
   },
   "file_extension": ".py",
   "mimetype": "text/x-python",
   "name": "python",
   "nbconvert_exporter": "python",
   "pygments_lexer": "ipython3",
   "version": "3.10.6"
  },
  "orig_nbformat": 4,
  "vscode": {
   "interpreter": {
    "hash": "d2f67f6f02098114f1eb667dbde229539e133e34a85b887b9dc3eea951e127e9"
   }
  }
 },
 "nbformat": 4,
 "nbformat_minor": 2
}
